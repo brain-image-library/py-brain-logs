{
 "nbformat": 4,
 "nbformat_minor": 0,
 "metadata": {
  "colab": {
   "provenance": []
  },
  "kernelspec": {
   "name": "python3",
   "language": "python",
   "display_name": "Python 3 (ipykernel)"
  },
  "language_info": {
   "name": "python"
  }
 },
 "cells": [
  {
   "cell_type": "markdown",
   "source": [
    "# Converting 'access.log' to tabular data\n",
    "\n",
    "With this notebook, we will download the access.log file from our repository. From there, we will parse the data line by line and extract it into a dataframe. Pandas will let us download the df as a file, which we will name \"access.tsv\".\n",
    "\n",
    "### Steps\n",
    "1. Clone the repository\n",
    "2. Open the file and parse it line by line\n",
    "3. Extract important information from the request and create a dataset\n",
    "4. Establish a dataframe with pandas\n",
    "5. Download the data as \"access.tsv\"\n"
   ],
   "metadata": {
    "id": "2h0wSrx7c0D4"
   }
  },
  {
   "cell_type": "code",
   "execution_count": 19,
   "metadata": {
    "colab": {
     "base_uri": "https://localhost:8080/"
    },
    "id": "rA0wP2OCatNs",
    "outputId": "0d690452-4a45-4287-a556-f596e7ef76d9"
   },
   "outputs": [
    {
     "output_type": "stream",
     "name": "stdout",
     "text": [
      "fatal: destination path 'py-brain-logs' already exists and is not an empty directory.\n"
     ]
    }
   ],
   "source": [
    "# First, we need to clone the library, so we can have access to the log file.\n",
    "\n",
    "!git clone https://github.com/brain-image-library/py-brain-logs.git"
   ]
  },
  {
   "cell_type": "code",
   "source": [
    "# Ensure that 'py-brain-logs' is in our directory\n",
    "!ls\n"
   ],
   "metadata": {
    "colab": {
     "base_uri": "https://localhost:8080/"
    },
    "id": "Hu96pK1Ab99z",
    "outputId": "e7a0de2b-4369-447f-8cf6-3d68e2460c55"
   },
   "execution_count": 15,
   "outputs": [
    {
     "output_type": "stream",
     "name": "stdout",
     "text": [
      "py-brain-logs  sample_data\n"
     ]
    }
   ]
  },
  {
   "cell_type": "markdown",
   "source": [
    "A sample line of access.log looks like this:\n",
    "\n",
    "```51.222.253.19 - - [15/May/2022:03:30:09 -0400] \"GET /56/77/567794f41ad2dccd/mouseID_394528-18867/1059286962_18867_4330-X29413-Y7746.swc HTTP/2.0\" 404 146 \"-\" \"Mozilla/5.0 (compatible; AhrefsBot/7.0; +http://ahrefs.com/robot/)\" \"-\"```\n",
    "\n",
    "We will split this by regex and retrieve information from it.\n",
    "\n",
    "And lastly, we can check if the request is from a bot if we check if the agent contains 'bot.'"
   ],
   "metadata": {
    "id": "8kdRWU7hdk4R"
   }
  },
  {
   "cell_type": "code",
   "source": [
    "import re\n",
    "from datetime import datetime\n",
    "\n",
    "import pandas as pd\n",
    "\n",
    "methods = ['GET', 'HEAD', 'POST', 'PUT', 'DELETE', 'OPTIONS', 'TRACE', 'PATCH']\n",
    "pattern = r'^([\\d.]+) - - \\[([^]]+)\\] \"([^\"]*)\" (\\d+) (\\d+) \"([^\"]*)\" \"([^\"]*)\" \"-\"$'\n",
    "\n",
    "with open('data/access.log', 'r') as file:\n",
    "    data = []\n",
    "    lines = file.readlines()\n",
    "\n",
    "    for line in lines:\n",
    "        matches = re.match(pattern, line) # Extract the information from the regular expression\n",
    "\n",
    "        if matches:\n",
    "            ip_address = matches.group(1)\n",
    "            timestamp = matches.group(2)\n",
    "            request_line = matches.group(3)\n",
    "            status_code = matches.group(4)\n",
    "            size = matches.group(5)\n",
    "            referrer = matches.group(6)\n",
    "            user_agent = matches.group(7)\n",
    "\n",
    "            split_request = request_line.split(' ')\n",
    "\n",
    "            # Some requests do not mention the method type, so we will not include it\n",
    "            method = split_request[0] if split_request[0] in methods else \"\"\n",
    "            url = split_request[1] if split_request[0] in methods else split_request[0]\n",
    "\n",
    "            # Assemble the dataset\n",
    "            dataset = {\n",
    "                \"ip\": ip_address,\n",
    "                \"date\": datetime.strptime(timestamp, '%d/%b/%Y:%H:%M:%S %z'),\n",
    "                \"method\": method,\n",
    "                \"url\": url,\n",
    "                \"status_code\": status_code,\n",
    "                \"size\": size,\n",
    "                \"referrer\": referrer,\n",
    "                \"user_agent\": user_agent,\n",
    "                \"is_bot\": 'bot' in user_agent.lower()\n",
    "            }\n",
    "\n",
    "            data.append(dataset)\n",
    "        else:\n",
    "            print(\"No match found.\")\n",
    "\n",
    "# Create the dataframe\n",
    "df = pd.DataFrame(data)\n",
    "df"
   ],
   "metadata": {
    "colab": {
     "base_uri": "https://localhost:8080/",
     "height": 424
    },
    "id": "chtJ_-CLcIVY",
    "outputId": "ccade52a-8e53-4fce-adba-611067f0d7b3",
    "ExecuteTime": {
     "end_time": "2023-07-18T19:57:08.546449900Z",
     "start_time": "2023-07-18T19:56:59.971346200Z"
    }
   },
   "execution_count": 1,
   "outputs": [
    {
     "data": {
      "text/plain": "                   ip                      date method  \\\n0       51.222.253.19 2022-05-15 03:30:09-04:00    GET   \n1       51.222.253.19 2022-05-15 03:30:17-04:00    GET   \n2       51.222.253.12 2022-05-15 03:30:24-04:00    GET   \n3       51.222.253.14 2022-05-15 03:30:33-04:00    GET   \n4        51.222.253.1 2022-05-15 03:30:40-04:00    GET   \n...               ...                       ...    ...   \n38505  185.191.171.17 2022-05-17 12:23:57-04:00    GET   \n38506  185.191.171.14 2022-05-17 12:23:58-04:00    GET   \n38507  157.90.181.151 2022-05-17 12:23:59-04:00    GET   \n38508  185.191.171.14 2022-05-17 12:23:59-04:00    GET   \n38509  157.90.181.151 2022-05-17 12:24:03-04:00    GET   \n\n                                                     url status_code  size  \\\n0      /56/77/567794f41ad2dccd/mouseID_394528-18867/1...         404   146   \n1      /56/77/567794f41ad2dccd/mouseID_394528-18867/1...         404   146   \n2      /56/77/567794f41ad2dccd/mouseID_394528-18867/1...         404   146   \n3      /56/77/567794f41ad2dccd/mouseID_394528-18867/1...         404   146   \n4      /56/77/567794f41ad2dccd/mouseID_394528-18867/1...         404   146   \n...                                                  ...         ...   ...   \n38505    /biccn/mueller/mouselight/2019-09-06/3/5/5/4/1/         200  1331   \n38506  /biccn/mueller/mouselight/2018-12-01/4/1/2/8/6/7/         200   479   \n38507                                            /bf/fb/         200   158   \n38508  /2f/27/2f27b45f2590ec86/2019-09-06/ktx/6/3/3/5/1/         200  1224   \n38509                                            /bf/fc/         200   158   \n\n      referrer                                         user_agent  is_bot  \n0            -  Mozilla/5.0 (compatible; AhrefsBot/7.0; +http:...    True  \n1            -  Mozilla/5.0 (compatible; AhrefsBot/7.0; +http:...    True  \n2            -  Mozilla/5.0 (compatible; AhrefsBot/7.0; +http:...    True  \n3            -  Mozilla/5.0 (compatible; AhrefsBot/7.0; +http:...    True  \n4            -  Mozilla/5.0 (compatible; AhrefsBot/7.0; +http:...    True  \n...        ...                                                ...     ...  \n38505        -  Mozilla/5.0 (compatible; SemrushBot/7~bl; +htt...    True  \n38506        -  Mozilla/5.0 (compatible; SemrushBot/7~bl; +htt...    True  \n38507        -  Mozilla/5.0 (compatible; BLEXBot/1.0; +http://...    True  \n38508        -  Mozilla/5.0 (compatible; SemrushBot/7~bl; +htt...    True  \n38509        -  Mozilla/5.0 (compatible; BLEXBot/1.0; +http://...    True  \n\n[38510 rows x 9 columns]",
      "text/html": "<div>\n<style scoped>\n    .dataframe tbody tr th:only-of-type {\n        vertical-align: middle;\n    }\n\n    .dataframe tbody tr th {\n        vertical-align: top;\n    }\n\n    .dataframe thead th {\n        text-align: right;\n    }\n</style>\n<table border=\"1\" class=\"dataframe\">\n  <thead>\n    <tr style=\"text-align: right;\">\n      <th></th>\n      <th>ip</th>\n      <th>date</th>\n      <th>method</th>\n      <th>url</th>\n      <th>status_code</th>\n      <th>size</th>\n      <th>referrer</th>\n      <th>user_agent</th>\n      <th>is_bot</th>\n    </tr>\n  </thead>\n  <tbody>\n    <tr>\n      <th>0</th>\n      <td>51.222.253.19</td>\n      <td>2022-05-15 03:30:09-04:00</td>\n      <td>GET</td>\n      <td>/56/77/567794f41ad2dccd/mouseID_394528-18867/1...</td>\n      <td>404</td>\n      <td>146</td>\n      <td>-</td>\n      <td>Mozilla/5.0 (compatible; AhrefsBot/7.0; +http:...</td>\n      <td>True</td>\n    </tr>\n    <tr>\n      <th>1</th>\n      <td>51.222.253.19</td>\n      <td>2022-05-15 03:30:17-04:00</td>\n      <td>GET</td>\n      <td>/56/77/567794f41ad2dccd/mouseID_394528-18867/1...</td>\n      <td>404</td>\n      <td>146</td>\n      <td>-</td>\n      <td>Mozilla/5.0 (compatible; AhrefsBot/7.0; +http:...</td>\n      <td>True</td>\n    </tr>\n    <tr>\n      <th>2</th>\n      <td>51.222.253.12</td>\n      <td>2022-05-15 03:30:24-04:00</td>\n      <td>GET</td>\n      <td>/56/77/567794f41ad2dccd/mouseID_394528-18867/1...</td>\n      <td>404</td>\n      <td>146</td>\n      <td>-</td>\n      <td>Mozilla/5.0 (compatible; AhrefsBot/7.0; +http:...</td>\n      <td>True</td>\n    </tr>\n    <tr>\n      <th>3</th>\n      <td>51.222.253.14</td>\n      <td>2022-05-15 03:30:33-04:00</td>\n      <td>GET</td>\n      <td>/56/77/567794f41ad2dccd/mouseID_394528-18867/1...</td>\n      <td>404</td>\n      <td>146</td>\n      <td>-</td>\n      <td>Mozilla/5.0 (compatible; AhrefsBot/7.0; +http:...</td>\n      <td>True</td>\n    </tr>\n    <tr>\n      <th>4</th>\n      <td>51.222.253.1</td>\n      <td>2022-05-15 03:30:40-04:00</td>\n      <td>GET</td>\n      <td>/56/77/567794f41ad2dccd/mouseID_394528-18867/1...</td>\n      <td>404</td>\n      <td>146</td>\n      <td>-</td>\n      <td>Mozilla/5.0 (compatible; AhrefsBot/7.0; +http:...</td>\n      <td>True</td>\n    </tr>\n    <tr>\n      <th>...</th>\n      <td>...</td>\n      <td>...</td>\n      <td>...</td>\n      <td>...</td>\n      <td>...</td>\n      <td>...</td>\n      <td>...</td>\n      <td>...</td>\n      <td>...</td>\n    </tr>\n    <tr>\n      <th>38505</th>\n      <td>185.191.171.17</td>\n      <td>2022-05-17 12:23:57-04:00</td>\n      <td>GET</td>\n      <td>/biccn/mueller/mouselight/2019-09-06/3/5/5/4/1/</td>\n      <td>200</td>\n      <td>1331</td>\n      <td>-</td>\n      <td>Mozilla/5.0 (compatible; SemrushBot/7~bl; +htt...</td>\n      <td>True</td>\n    </tr>\n    <tr>\n      <th>38506</th>\n      <td>185.191.171.14</td>\n      <td>2022-05-17 12:23:58-04:00</td>\n      <td>GET</td>\n      <td>/biccn/mueller/mouselight/2018-12-01/4/1/2/8/6/7/</td>\n      <td>200</td>\n      <td>479</td>\n      <td>-</td>\n      <td>Mozilla/5.0 (compatible; SemrushBot/7~bl; +htt...</td>\n      <td>True</td>\n    </tr>\n    <tr>\n      <th>38507</th>\n      <td>157.90.181.151</td>\n      <td>2022-05-17 12:23:59-04:00</td>\n      <td>GET</td>\n      <td>/bf/fb/</td>\n      <td>200</td>\n      <td>158</td>\n      <td>-</td>\n      <td>Mozilla/5.0 (compatible; BLEXBot/1.0; +http://...</td>\n      <td>True</td>\n    </tr>\n    <tr>\n      <th>38508</th>\n      <td>185.191.171.14</td>\n      <td>2022-05-17 12:23:59-04:00</td>\n      <td>GET</td>\n      <td>/2f/27/2f27b45f2590ec86/2019-09-06/ktx/6/3/3/5/1/</td>\n      <td>200</td>\n      <td>1224</td>\n      <td>-</td>\n      <td>Mozilla/5.0 (compatible; SemrushBot/7~bl; +htt...</td>\n      <td>True</td>\n    </tr>\n    <tr>\n      <th>38509</th>\n      <td>157.90.181.151</td>\n      <td>2022-05-17 12:24:03-04:00</td>\n      <td>GET</td>\n      <td>/bf/fc/</td>\n      <td>200</td>\n      <td>158</td>\n      <td>-</td>\n      <td>Mozilla/5.0 (compatible; BLEXBot/1.0; +http://...</td>\n      <td>True</td>\n    </tr>\n  </tbody>\n</table>\n<p>38510 rows × 9 columns</p>\n</div>"
     },
     "execution_count": 1,
     "metadata": {},
     "output_type": "execute_result"
    }
   ]
  },
  {
   "cell_type": "code",
   "source": [
    "# Convert the dataframe to a tsv file.\n",
    "df.to_csv('data/access.tsv', sep='\\t', index=False)"
   ],
   "metadata": {
    "id": "mX6wJaf5ck28",
    "ExecuteTime": {
     "end_time": "2023-07-18T19:57:52.787962700Z",
     "start_time": "2023-07-18T19:57:49.327611600Z"
    }
   },
   "execution_count": 3,
   "outputs": []
  }
 ]
}
